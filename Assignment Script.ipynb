{
 "cells": [
  {
   "cell_type": "markdown",
   "metadata": {},
   "source": [
    "# CHBE 263 Python Assignment\n",
    "\n",
    "Group 12: Will Brooks, Alex Cho, Neal , James Han, Fawaz Asif\n",
    "## Table of Contents\n",
    "1. [Introduction](##Introduction)\n",
    "2. [Part A: Pipetting](##Part-A-Pipetting)\n",
    "3. [Part B: Spectrophotometry](##Part-B:-Spectrophotometry)\n",
    "4. [Part C:  Identifying Outliers with Q-test](##Part-C:-Identifying-Outliers-with-Q-test)\n"
   ]
  },
  {
   "cell_type": "markdown",
   "metadata": {},
   "source": [
    "## Introduction\n",
    "This is an assigment meant to mimic the calculations we conducted in excel for lab O, the introduction lab meant to get us used to common laboratory practices and basic laboratory tools.\n",
    "\n",
    "These are the basic libraries we will need, and the average function."
   ]
  },
  {
   "cell_type": "code",
   "execution_count": null,
   "metadata": {},
   "outputs": [],
   "source": [
    "import numpy as np\n",
    "import matplotlib.pyplot as plt \n",
    "from scipy import stats # Didn't use this as you cannot fit the curve through 0\n",
    "import pandas as pd\n",
    "\n",
    "# Simple function to compute the average of a list\n",
    "def avg(arr): \n",
    "    return sum(arr)/len(arr)"
   ]
  },
  {
   "cell_type": "markdown",
   "metadata": {},
   "source": [
    "## Part A: Pipetting\n"
   ]
  },
  {
   "cell_type": "markdown",
   "metadata": {},
   "source": [
    "This part of the lab we attempted to measure the accuracy of different pipettes in the lab. This was done by measuring the weight of the water pippetted, and dividing by its density to acertain the volume. This could then be compared to the targets to determine accuracy."
   ]
  },
  {
   "cell_type": "markdown",
   "metadata": {},
   "source": [
    "Here we define the targets for the experiment as well as the density of water at $26^\\degree C$"
   ]
  },
  {
   "cell_type": "code",
   "execution_count": 2,
   "metadata": {},
   "outputs": [],
   "source": [
    "DENSITY_W = 0.9979\n",
    "TARGET_1 = 1\n",
    "\n",
    "TARGET_2 = 5"
   ]
  },
  {
   "cell_type": "markdown",
   "metadata": {},
   "source": [
    "Once these constants have been defined, we will extract the values of the excel file and put it into a dataframe."
   ]
  },
  {
   "cell_type": "code",
   "execution_count": 16,
   "metadata": {},
   "outputs": [],
   "source": [
    "mass_data = pd.read_csv('data/O_Lab_Data.csv')"
   ]
  },
  {
   "cell_type": "markdown",
   "metadata": {},
   "source": [
    "From these values we can now compute these calculations:\n",
    "- Average: $\\bar{V} = \\frac{\\sum m_i}{i \\cdot \\rho} $\n",
    "- Accuracy: $\\text{Acc} = \\frac{\\bar{V} - V_T}{V_t}\\cdot 100\\%$\n",
    "- Standard DeviatioN: This is computed using the numpy standard deviation function using a degree of freedom of 1, defining it as the sample mean and not the population mean\n",
    "- Relative Standard Deviation: $\\text{Relative Standard Deviation} = \\frac{\\sigma}{V_T}\\cdot 100\\%$"
   ]
  },
  {
   "cell_type": "markdown",
   "metadata": {},
   "source": [
    "#### P1000 1mL Target"
   ]
  },
  {
   "cell_type": "code",
   "execution_count": null,
   "metadata": {},
   "outputs": [
    {
     "name": "stdout",
     "output_type": "stream",
     "text": [
      "Average Volume of Measurements P1000 targetting 1mL: 1.0053 mL\n",
      "Accuracy of Measurements: 0.53 % error\n",
      "Standard Deviation of Measurements 0.0022 mL\n",
      "The relative standard deviation of Measurements 0.22 %\n"
     ]
    }
   ],
   "source": [
    "print(\"Average Volume of Measurements P1000 targetting 1mL:\", round(avg(mass_data.P1000_1ml)/DENSITY_W, 4), \"mL\")\n",
    "print(\"Accuracy of Measurements:\", round((avg(mass_data.P1000_1ml)/DENSITY_W-TARGET_1)*100,2), \"% error\")\n",
    "print(\"Standard Deviation of Measurements\", round(np.std(mass_data.P1000_1ml/DENSITY_W, ddof=1), 4), \"mL\")\n",
    "print(\"The relative standard deviation of Measurements\", round(np.std(mass_data.P1000_1ml/DENSITY_W, ddof=1)/TARGET_1*100, 2), \"%\")"
   ]
  },
  {
   "cell_type": "markdown",
   "metadata": {},
   "source": [
    "#### P5000 1mL Target"
   ]
  },
  {
   "cell_type": "code",
   "execution_count": 13,
   "metadata": {},
   "outputs": [
    {
     "name": "stdout",
     "output_type": "stream",
     "text": [
      "Average Volume of Measurements P5000 targetting 1mL: 1.0177 mL\n",
      "Accuracy of Measurements: 1.77 % error\n",
      "Standard Deviation of Measurements 0.0051 mL\n",
      "The relative standard deviation of Measurements 0.51 %\n"
     ]
    }
   ],
   "source": [
    "print(\"Average Volume of Measurements P5000 targetting 1mL:\", round(avg(mass_data.P5000_1ml)/DENSITY_W, 4), \"mL\")\n",
    "print(\"Accuracy of Measurements:\", round((avg(mass_data.P5000_1ml)/DENSITY_W-TARGET_1)*100,2), \"% error\")\n",
    "print(\"Standard Deviation of Measurements\", round(np.std(mass_data.P5000_1ml/DENSITY_W, ddof=1), 4), \"mL\")\n",
    "print(\"The relative standard deviation of Measurements\", round(np.std(mass_data.P5000_1ml/DENSITY_W, ddof=1)/TARGET_1*100, 2), \"%\")"
   ]
  },
  {
   "cell_type": "markdown",
   "metadata": {},
   "source": [
    "#### P5000 5mL Target"
   ]
  },
  {
   "cell_type": "code",
   "execution_count": 19,
   "metadata": {},
   "outputs": [
    {
     "name": "stdout",
     "output_type": "stream",
     "text": [
      "Average Volume of Measurements P5000 targetting 5mL: 4.9915 mL\n",
      "Accuracy of Measurements: 0.85 % error\n",
      "Standard Deviation of Measurements 0.0128 mL\n",
      "The relative standard deviation of Measurements 1.28 %\n"
     ]
    }
   ],
   "source": [
    "print(\"Average Volume of Measurements P5000 targetting 5mL:\", round(avg(mass_data.P5000_5ml)/DENSITY_W, 4), \"mL\")\n",
    "print(\"Accuracy of Measurements:\", round(abs((avg(mass_data.P5000_5ml)/DENSITY_W-TARGET_2))*100,2), \"% error\")\n",
    "print(\"Standard Deviation of Measurements\", round(np.std(mass_data.P5000_5ml/DENSITY_W, ddof=1), 4), \"mL\")\n",
    "print(\"The relative standard deviation of Measurements\", round(np.std(mass_data.P5000_5ml/DENSITY_W, ddof=1)/TARGET_1*100, 2), \"%\")\n"
   ]
  },
  {
   "cell_type": "markdown",
   "metadata": {},
   "source": [
    "## Part B: Spectrophotometry"
   ]
  },
  {
   "cell_type": "markdown",
   "metadata": {},
   "source": [
    "This section of the lab we were creating a standard calibration curve to calculate the concentration of an unknown sample. \n",
    "\n",
    "This was done using Ambert Beer's Law: $A = \\epsilon bC$ and fitting a linear regression to this equation."
   ]
  },
  {
   "cell_type": "markdown",
   "metadata": {},
   "source": [
    "Importing our collected spectrophotometry data."
   ]
  },
  {
   "cell_type": "code",
   "execution_count": 20,
   "metadata": {},
   "outputs": [],
   "source": [
    "spectro_data_c = pd.read_csv('data/Collected_Spectro_Data.csv')"
   ]
  },
  {
   "cell_type": "markdown",
   "metadata": {},
   "source": [
    "Here I convert the data that we collected into dictionary for easier use:"
   ]
  },
  {
   "cell_type": "code",
   "execution_count": 21,
   "metadata": {},
   "outputs": [],
   "source": [
    "def csv_to_dict(dataframe, unknowns):\n",
    "    \n",
    "    csv_data = []\n",
    "\n",
    "    for i  in range(len(dataframe.columns) - 1 - unknowns):\n",
    "        data = {\n",
    "            \"Concentration\": float(dataframe.iloc[i, 0]),  \n",
    "            \"Absorbance\": dataframe.iloc[:, i+1].dropna(),\n",
    "            \"Average Absorbance\": avg(dataframe.iloc[:, i+1].dropna())\n",
    "        }\n",
    "        csv_data.append(data)\n",
    "    \n",
    "    return csv_data\n",
    "\n",
    "\n",
    "all_data = csv_to_dict(spectro_data_c, 1)"
   ]
  },
  {
   "cell_type": "markdown",
   "metadata": {},
   "source": [
    "Below we perform the linear regression (Forced Intercept) and calculate the standard error:\n",
    "- Linear regression with forced y-intercept of 0 has the following formula: $m = \\frac{\\sum (C\\cdot A)}{\\sum (C^2)}$\n",
    "- The standard error for this is now computed with: $m = \\sqrt{\\frac{\\sum (A - mC)^2}{(n-1)\\cdot \\sum C^2}}$\n",
    "- Plotting is then done with the slope and matplotlib"
   ]
  },
  {
   "cell_type": "code",
   "execution_count": null,
   "metadata": {},
   "outputs": [
    {
     "name": "stdout",
     "output_type": "stream",
     "text": [
      "Slope (m): 0.0276 mg/L\n",
      "Uncertainty in the Calibration Curve Slope is: 0.00181 mg/L\n",
      "Average Absorbance of Unknown Sample: 0.1704\n",
      "Concenrtation of Unknown Sample is 6.18 mg/L\n"
     ]
    },
    {
     "data": {
      "image/png": "[encoded data removed]",
      "text/plain": [
       "<Figure size 640x480 with 1 Axes>"
      ]
     },
     "metadata": {},
     "output_type": "display_data"
    }
   ],
   "source": [
    "concentrations = np.array([])\n",
    "avg_aus = np.array([])\n",
    "data_adjust = all_data[0][\"Average Absorbance\"]\n",
    "\n",
    "# Adjust data and put it in an easier format to use\n",
    "for dataset in all_data:\n",
    "    dataset[\"Average Absorbance\"] -= data_adjust\n",
    "    avg_aus = np.append(avg_aus, dataset[\"Average Absorbance\"]) \n",
    "    concentrations = np.append(concentrations, dataset[\"Concentration\"])\n",
    "\n",
    "m = np.sum(concentrations * avg_aus) / np.sum(concentrations**2)\n",
    "\n",
    "se_m = np.sqrt(np.sum((avg_aus - concentrations*m)**2)/((len(concentrations)-1)*np.sum(concentrations**2)))\n",
    "\n",
    "# Print results\n",
    "print(\"Slope (m):\", round(m, 4), \"mg/L\")\n",
    "print(f\"Uncertainty in the Calibration Curve Slope is: {se_m:.5f}\", \"mg/L\")\n",
    "print(\"Average Absorbance of Unknown Sample:\", round(avg(spectro_data_c.Unknown.dropna()-data_adjust), 5))\n",
    "print(\"Concenrtation of Unknown Sample is\",round((avg(spectro_data_c.Unknown.dropna())-data_adjust)/m, 2), \"mg/L\")\n",
    "\n",
    "\n",
    "# Plot data and regression line\n",
    "plt.scatter(concentrations, avg_aus, color='blue', label='Data')\n",
    "plt.plot(concentrations, m * concentrations, color='red', label=f'Fit: y = {m:.2f}x')\n",
    "plt.xlabel('Concentration of Standards (mg/L)')\n",
    "plt.ylabel('Absorbance')\n",
    "plt.legend()\n",
    "plt.show()\n",
    "\n"
   ]
  },
  {
   "cell_type": "markdown",
   "metadata": {},
   "source": [
    "## Part C: Identifying Outliers with Q-test\n"
   ]
  },
  {
   "cell_type": "markdown",
   "metadata": {},
   "source": [
    "For this section we will mimic what we did in excel by checking for outliers inside of the dataset that we were given. We will do this by conducting the Q Test. A statistcal test that analyzes the relative gaps between data points. To start w\n",
    "e define the critical Q from the Q table provided in the pre-lab."
   ]
  },
  {
   "cell_type": "code",
   "execution_count": null,
   "metadata": {},
   "outputs": [],
   "source": [
    "Q_CRITICAL = 0.1846"
   ]
  },
  {
   "cell_type": "markdown",
   "metadata": {},
   "source": [
    "We will iterate trhough the the data set to check if all values pass the Q test, with a sorted array this process is relatively simple. \n",
    "\n",
    "For the Q test we will pass the array into the function until the Q values are less than the Q Critical:\n",
    "- Q Test Formula: $Q = \\frac{\\text{Gap}}{\\text{Range}}$"
   ]
  },
  {
   "cell_type": "code",
   "execution_count": 63,
   "metadata": {},
   "outputs": [],
   "source": [
    "spectro_data_g = pd.read_csv('data/Given_Spectro_Data.csv')\n",
    "\n",
    "sorted_au = sorted(spectro_data_g.Absorbance) # Sorts from smallest to largest\n",
    "\n",
    "def q_test(sorted_data):\n",
    "    \n",
    "    if Q_CRITICAL < (sorted_au[-1] - sorted_au[-2])/(max(sorted_data)-min(sorted_data)):# 2 cases for possible outliers, the max value of the data set, and the minimum value fo the dataset\n",
    "        print(f\"\\nThe Outlier is: {sorted_data[-1]:.3f}\")\n",
    "        print(f\"The Q value of this outlier is: {(sorted_au[-1] - sorted_au[-2])/(max(sorted_data)-min(sorted_data)):.3f}. This is greater than Q Critical: {Q_CRITICAL:.3f}\")\n",
    "        print(f\"The range of this dataset is: {max(sorted_data) - min(sorted_data):.3f}\")\n",
    "        \n",
    "        del sorted_data[-1]\n",
    "        q_test(sorted_data) \n",
    "    elif Q_CRITICAL < (sorted_au[1] - sorted_au[0])/(max(sorted_data)-min(sorted_data)):\n",
    "        print(f\"\\nThe Outlier is: {sorted_data[0]:.3f}\")\n",
    "        print(f\"The Q value of: {(sorted_au[1] - sorted_au[0])/(max(sorted_data)-min(sorted_data)):.3f}. This is greater than Q Critical: {Q_CRITICAL:.3f}\")\n",
    "        print(f\"The range of this dataset is: {max(sorted_data) - min(sorted_data):.3f}\")\n",
    "        \n",
    "        del sorted_data[0]\n",
    "        q_test(sorted_data)  \n",
    "    \n",
    "    return sorted_data"
   ]
  },
  {
   "cell_type": "markdown",
   "metadata": {},
   "source": [
    "Here we perform the Q test and the results of it:"
   ]
  },
  {
   "cell_type": "code",
   "execution_count": 64,
   "metadata": {},
   "outputs": [
    {
     "name": "stdout",
     "output_type": "stream",
     "text": [
      "\n",
      "The Outlier is: 0.390\n",
      "The Q value of: 0.286. This is greater than Q Critical: 0.185\n",
      "The range of this dataset is: 0.280\n",
      "\n",
      "The Outlier is: 0.670\n",
      "The Q value of this outlier is: 0.200. This is greater than Q Critical: 0.185\n",
      "The range of this dataset is: 0.200\n",
      "\n",
      "The Final Range is: 0.160\n",
      "The Q value of the lowest value is: 0.125\n",
      "The Q value of the largest value is: 0.094\n",
      "The Q Critical used was: 0.185\n"
     ]
    }
   ],
   "source": [
    "clean_data = q_test(sorted_au)\n",
    "\n",
    "print(f\"\\nThe Final Range is: {max(clean_data) - min(clean_data):.3f}\")\n",
    "print(f\"The Q value of the lowest value is: {(clean_data[1] - clean_data[0])/(max(clean_data)-min(clean_data)):.3f}\")\n",
    "print(f\"The Q value of the largest value is: {(clean_data[-1] - clean_data[-2])/(max(clean_data)-min(clean_data)):.3f}\")\n",
    "print(f\"The Q Critical used was: {Q_CRITICAL:.3f}\")"
   ]
  },
  {
   "cell_type": "markdown",
   "metadata": {},
   "source": [
    "This was some extra code I wrote for the IQR test."
   ]
  },
  {
   "cell_type": "code",
   "execution_count": null,
   "metadata": {},
   "outputs": [],
   "source": [
    "# This was useless but i didn't realize until it was too late\n",
    "# Its the IQR test and everything needed for it\n",
    "'''\n",
    "def median(sorted_arr):\n",
    "    if len(sorted_arr) % 2 == 0:\n",
    "        median = avg(sorted_arr[int(len(sorted_arr)/2-1):int(len(sorted_arr)/2)])\n",
    "    else:\n",
    "        median = sorted_arr[int(len(sorted_arr)/2)]\n",
    "        \n",
    "    return median\n",
    "\n",
    "\n",
    "def q_vals(sorted_arr):\n",
    "    if len(sorted_arr) % 2 == 0:\n",
    "        q1 = median(sorted_arr[0:int(len(sorted_arr)/2-1)])\n",
    "        q3 = median(sorted_arr[int(len(sorted_arr)/2):-1])\n",
    "    else:\n",
    "        q1 = median(sorted_arr[0:(int(len(sorted_arr)/2)-1)])\n",
    "        q3 = median(sorted_arr[int(len(sorted_arr)/2):-1])\n",
    "\n",
    "    print(q1, \", \", q3)\n",
    "    \n",
    "    q_values = {\n",
    "        \"Q1\": q1,\n",
    "        \"Q2\": median(sorted_arr), \n",
    "        \"Q3\": q3,\n",
    "        \"IQR\": q3 - q1\n",
    "        \n",
    "    }\n",
    "    \n",
    "    return q_values\n",
    "    \n",
    "def q_test(sorted_data):\n",
    "    max_val = max(sorted_data)\n",
    "    min_val = min(sorted_data)\n",
    "    \n",
    "    qs = q_vals(sorted_data)\n",
    "    \n",
    "    if max_val >  qs[\"Q3\"] + qs[\"IQR\"] * 1.5:\n",
    "        del sorted_data[-1]\n",
    "        q_test(sorted_data)\n",
    "    elif min_val < qs[\"Q1\"] - qs[\"IQR\"] * 1.5:\n",
    "        del sorted_data[0]\n",
    "        q_test(sorted_data)\n",
    "    else:\n",
    "        return sorted_data\n",
    "    \n",
    "    \n",
    "    '''"
   ]
  }
 ],
 "metadata": {
  "kernelspec": {
   "display_name": "Python 3",
   "language": "python",
   "name": "python3"
  },
  "language_info": {
   "codemirror_mode": {
    "name": "ipython",
    "version": 3
   },
   "file_extension": ".py",
   "mimetype": "text/x-python",
   "name": "python",
   "nbconvert_exporter": "python",
   "pygments_lexer": "ipython3",
   "version": "3.11.1"
  }
 },
 "nbformat": 4,
 "nbformat_minor": 2
}
