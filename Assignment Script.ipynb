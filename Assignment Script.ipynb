{
 "cells": [
  {
   "cell_type": "markdown",
   "metadata": {},
   "source": [
    "# CHBE 263 Python Assignment\n",
    "\n",
    "Here are a few basic packages that we will make use of later.\n",
    "\n"
   ]
  },
  {
   "cell_type": "code",
   "execution_count": 122,
   "metadata": {},
   "outputs": [],
   "source": [
    "import numpy as np\n",
    "import matplotlib as plt\n",
    "import scipy as sp\n",
    "import pandas as pd"
   ]
  },
  {
   "cell_type": "markdown",
   "metadata": {},
   "source": [
    "## Pipetting Pracitce Analysis\n"
   ]
  },
  {
   "cell_type": "code",
   "execution_count": 94,
   "metadata": {},
   "outputs": [
    {
     "name": "stdout",
     "output_type": "stream",
     "text": [
      "Average Volume of Measurements P1000 targetting 1mL: 1.0053 mL\n",
      "Accuracy of Measurements: 0.53 % error\n",
      "Standard Deviation of Measurements 0.0022 mL\n",
      "The relative standard deviation of Measurements 0.22 %\n"
     ]
    }
   ],
   "source": [
    "DENSITY_W = 0.9979\n",
    "\n",
    "TARGET_1 = 1\n",
    "\n",
    "TARGET_2 = 5\n",
    "\n",
    "def avg(arr): \n",
    "    return sum(arr)/len(arr)\n",
    "\n",
    "mass_data = pd.read_csv('data/O_Lab_Data.csv')\n",
    "\n",
    "\n",
    "print(\"Average Volume of Measurements P1000 targetting 1mL:\", round(avg(mass_data.P1000_1ml)/DENSITY_W, 4), \"mL\")\n",
    "print(\"Accuracy of Measurements:\", round((avg(mass_data.P1000_1ml)/DENSITY_W-TARGET_1)*100,2), \"% error\")\n",
    "print(\"Standard Deviation of Measurements\", round(np.std(mass_data.P1000_1ml/DENSITY_W, ddof=1), 4), \"mL\")\n",
    "print(\"The relative standard deviation of Measurements\", round(np.std(mass_data.P1000_1ml/DENSITY_W, ddof=1)/TARGET_1*100, 2), \"%\")\n",
    "\n"
   ]
  },
  {
   "cell_type": "markdown",
   "metadata": {},
   "source": [
    "## Spectrophotometry"
   ]
  },
  {
   "cell_type": "code",
   "execution_count": null,
   "metadata": {},
   "outputs": [
    {
     "name": "stdout",
     "output_type": "stream",
     "text": [
      "<generator object <genexpr> at 0x11ef24450>\n",
      "[]\n",
      "0.0\n",
      "[0.]\n",
      "2.0\n",
      "[0.     0.0184]\n",
      "4.0\n",
      "[0.     0.0184 0.07  ]\n",
      "5.0\n",
      "[0.     0.0184 0.07   0.1428]\n",
      "6.0\n",
      "[0.     0.0184 0.07   0.1428 0.143 ]\n",
      "8.0\n",
      "[0.     0.0184 0.07   0.1428 0.143  0.2474]\n",
      "9.0\n"
     ]
    }
   ],
   "source": [
    "spectro_data = pd.read_csv('data/Collected_Spectro_Data.csv')\n",
    "\n",
    "all_data = []\n",
    "\n",
    "for i  in range(len(spectro_data.columns)-1):\n",
    "    data = {\n",
    "        \"Concentration\": float(spectro_data.iloc[i, 0]),  \n",
    "        \"Absorbance\": spectro_data.iloc[:, i+1].dropna(),\n",
    "        \"Average Absorbance\": avg(spectro_data.iloc[:, i+1].dropna())\n",
    "    }\n",
    "    all_data.append(data)\n",
    "    \n",
    "data_adjust = avg(all_data[0].get(\"Absorbance\"))\n",
    "\n",
    "print(dataset[\"Concentration\"] for dataset in all_data)\n",
    "\n",
    "avg_au = np.array([])\n",
    "concentration = np.array([])\n",
    "\n",
    "for dataset in all_data:\n",
    "    dataset[\"Average Absorbance\"] -= data_adjust\n",
    "    avg_au = np.append(avg_au, dataset[\"Average Absorbance\"]) \n",
    "    concentration = np.append(concentration, dataset[\"Concentration\"])\n",
    "\n",
    "\n",
    "\n"
   ]
  }
 ],
 "metadata": {
  "kernelspec": {
   "display_name": "Python 3",
   "language": "python",
   "name": "python3"
  },
  "language_info": {
   "codemirror_mode": {
    "name": "ipython",
    "version": 3
   },
   "file_extension": ".py",
   "mimetype": "text/x-python",
   "name": "python",
   "nbconvert_exporter": "python",
   "pygments_lexer": "ipython3",
   "version": "3.11.1"
  }
 },
 "nbformat": 4,
 "nbformat_minor": 2
}
