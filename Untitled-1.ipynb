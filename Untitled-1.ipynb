{
 "cells": [
  {
   "cell_type": "markdown",
   "metadata": {},
   "source": [
    "# CHBE 263 Python Assignment\n",
    "\n",
    "asdjalsdkjalskdjakld\n",
    "\n",
    "- asdasd\n",
    "\n"
   ]
  },
  {
   "cell_type": "code",
   "execution_count": 79,
   "metadata": {},
   "outputs": [
    {
     "name": "stdout",
     "output_type": "stream",
     "text": [
      "Average Volume of Measurements P1000 targetting 1mL: 1.0053 mL\n",
      "Accuracy of Measurements: 0.53 % error\n",
      "Standard Deviation of Measurements 0.0022\n"
     ]
    }
   ],
   "source": [
    "import numpy as np\n",
    "import matplotlib as plt\n",
    "import scipy as sp\n",
    "import pandas as pd\n",
    "\n",
    "DENSITY_W = 0.9979\n",
    "\n",
    "TARGET_1 = 1\n",
    "\n",
    "TARGET_2 = 5\n",
    "\n",
    "def avg(arr): \n",
    "    return sum(arr)/len(arr)\n",
    "\n",
    "mass_data = pd.read_csv('data/O_Lab_Data.csv')\n",
    "\n",
    "targets = [\"P1000 targetting 1mL\", \"P5000 targetting 1mL\", \"P5000 targetting 5mL\"]\n",
    "\n",
    "\n",
    "\n",
    "#volume = [[mass_data.P1000_1ml/DENSITY_W], mass_data.P5000_1ml/DENSITY_W, mass_data.P5000_5ml/DENSITY_W]\n",
    "\n",
    "#print(volume)\n",
    "\n",
    "print(\"Average Volume of Measurements P1000 targetting 1mL:\", round(avg(mass_data.P1000_1ml)/DENSITY_W, 4), \"mL\")\n",
    "print(\"Accuracy of Measurements:\", round((avg(mass_data.P1000_1ml)/DENSITY_W-TARGET_1)*100,2), \"% error\")\n",
    "print(\"Standard Deviation of Measurements\", round(np.std(mass_data.P1000_1ml/DENSITY_W, ddof=1), 4))\n",
    "\n",
    "\n"
   ]
  }
 ],
 "metadata": {
  "kernelspec": {
   "display_name": "Python 3",
   "language": "python",
   "name": "python3"
  },
  "language_info": {
   "codemirror_mode": {
    "name": "ipython",
    "version": 3
   },
   "file_extension": ".py",
   "mimetype": "text/x-python",
   "name": "python",
   "nbconvert_exporter": "python",
   "pygments_lexer": "ipython3",
   "version": "3.11.1"
  }
 },
 "nbformat": 4,
 "nbformat_minor": 2
}
